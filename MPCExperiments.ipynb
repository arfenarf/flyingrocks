{
 "cells": [
  {
   "cell_type": "code",
   "execution_count": 1,
   "metadata": {},
   "outputs": [],
   "source": [
    "from MPCRecord import MPCRecord\n",
    "from BeautifulSoup import BeautifulSoup as bs\n",
    "import ephem\n",
    "import os\n",
    "import requests\n",
    "from datetime import date, time, datetime\n",
    "\n",
    "# Render our plots inline\n",
    "%matplotlib inline\n",
    "\n",
    "import pandas as pd\n",
    "import matplotlib.pyplot as plt\n",
    "\n",
    "pd.set_option('display.mpl_style', 'default') # Make the graphs a bit prettier\n",
    "plt.rcParams['figure.figsize'] = (15, 5)"
   ]
  },
  {
   "cell_type": "code",
   "execution_count": 3,
   "metadata": {},
   "outputs": [
    {
     "ename": "NameError",
     "evalue": "name 'pd' is not defined",
     "output_type": "error",
     "traceback": [
      "\u001b[0;31m---------------------------------------------------------------------------\u001b[0m",
      "\u001b[0;31mNameError\u001b[0m                                 Traceback (most recent call last)",
      "\u001b[0;32m<ipython-input-3-f139772e05bc>\u001b[0m in \u001b[0;36m<module>\u001b[0;34m()\u001b[0m\n\u001b[0;32m----> 1\u001b[0;31m \u001b[0mobss\u001b[0m \u001b[0;34m=\u001b[0m \u001b[0mpd\u001b[0m\u001b[0;34m.\u001b[0m\u001b[0mread_csv\u001b[0m\u001b[0;34m(\u001b[0m\u001b[0;34m'wsdiff_S82_lon_gt_minus2_obs.csv'\u001b[0m\u001b[0;34m,\u001b[0m \u001b[0mparse_dates\u001b[0m\u001b[0;34m=\u001b[0m\u001b[0;34m[\u001b[0m\u001b[0;34m'date_obs'\u001b[0m\u001b[0;34m,\u001b[0m\u001b[0;34m'date_added'\u001b[0m\u001b[0;34m]\u001b[0m\u001b[0;34m)\u001b[0m\u001b[0;34m\u001b[0m\u001b[0m\n\u001b[0m\u001b[1;32m      2\u001b[0m \u001b[0mlinks\u001b[0m \u001b[0;34m=\u001b[0m \u001b[0mpd\u001b[0m\u001b[0;34m.\u001b[0m\u001b[0mread_csv\u001b[0m\u001b[0;34m(\u001b[0m\u001b[0;34m'wsdiff_S82_lon_gt_minus2_link.csv'\u001b[0m\u001b[0;34m)\u001b[0m\u001b[0;34m\u001b[0m\u001b[0m\n\u001b[1;32m      3\u001b[0m \u001b[0morbits\u001b[0m \u001b[0;34m=\u001b[0m \u001b[0mpd\u001b[0m\u001b[0;34m.\u001b[0m\u001b[0mread_csv\u001b[0m\u001b[0;34m(\u001b[0m\u001b[0;34m'wsdiff_S82_lon_gt_minus2_orbit.csv'\u001b[0m\u001b[0;34m)\u001b[0m\u001b[0;34m\u001b[0m\u001b[0m\n\u001b[1;32m      4\u001b[0m \u001b[0;34m\u001b[0m\u001b[0m\n\u001b[1;32m      5\u001b[0m \u001b[0mlobss\u001b[0m \u001b[0;34m=\u001b[0m \u001b[0mpd\u001b[0m\u001b[0;34m.\u001b[0m\u001b[0mmerge\u001b[0m\u001b[0;34m(\u001b[0m\u001b[0mlinks\u001b[0m\u001b[0;34m,\u001b[0m\u001b[0mobss\u001b[0m\u001b[0;34m,\u001b[0m \u001b[0mhow\u001b[0m\u001b[0;34m=\u001b[0m\u001b[0;34m'inner'\u001b[0m\u001b[0;34m,\u001b[0m\u001b[0mon\u001b[0m\u001b[0;34m=\u001b[0m\u001b[0;34m'objid'\u001b[0m\u001b[0;34m)\u001b[0m\u001b[0;34m\u001b[0m\u001b[0m\n",
      "\u001b[0;31mNameError\u001b[0m: name 'pd' is not defined"
     ]
    }
   ],
   "source": [
    "obss = pd.read_csv('wsdiff_S82_lon_gt_minus2_obs.csv', parse_dates=['date_obs','date_added'])\n",
    "links = pd.read_csv('wsdiff_S82_lon_gt_minus2_link.csv')\n",
    "orbits = pd.read_csv('wsdiff_S82_lon_gt_minus2_orbit.csv')\n",
    "\n",
    "lobss = pd.merge(links,obss, how='inner',on='objid')\n",
    "tmpids = pd.Series(lobss.index.values)\n",
    "tmpids = tmpids.apply(lambda x: str(x))\n",
    "\n",
    "lobss['tmpid'] = tmpids.str.pad(6, fillchar = '0')\n",
    "lobss = lobss.groupby('id')"
   ]
  },
  {
   "cell_type": "code",
   "execution_count": 789,
   "metadata": {},
   "outputs": [],
   "source": [
    "responseframe = pd.DataFrame(columns = ['tmpid','designation','ra-hms','dec-dms','v','offset_ra','offset_dec', 'motion_ra', \\\n",
    "                                    'motion_dec', 'orbit', 'comment'])"
   ]
  },
  {
   "cell_type": "code",
   "execution_count": 805,
   "metadata": {},
   "outputs": [
    {
     "name": "stdout",
     "output_type": "stream",
     "text": [
      "got batch 0\n",
      "going to parse now\n",
      "[u'(380057) 2013 RF81       00 06 58.4 +02 00 32  19.8   3.3W   2.9N    30-    13-    7o  None needed at this time.', u'(104635) 2000 GD117      00 06 58.2 +02 04 12  19.1   3.3W   6.6N    28-    14-   13o  None needed at this time.', u'(164150) 2003 YF119      00 06 50.0 +02 03 45  19.7   5.4W   6.1N    27-     9-   13o  None needed at this time.']\n",
      "[u'(380057) 2013 RF81       00 06 58.3 +02 00 32  19.8   3.3W   2.9N    30-    13-    7o  None needed at this time.', u'(104635) 2000 GD117      00 06 58.2 +02 04 12  19.1   3.3W   6.5N    28-    14-   13o  None needed at this time.', u'(164150) 2003 YF119      00 06 49.9 +02 03 45  19.7   5.4W   6.1N    27-     9-   13o  None needed at this time.']\n",
      "[u' (14077) Volfango        00 06 27.8 +01 44 06  18.5   2.3E   7.5S    25-     7-   17o  None needed at this time.', u' (91070) 1998 FO71       00 05 55.7 +01 44 03  17.9   5.7W   7.5S    23-    22-   12o  None needed at this time.']\n",
      "[u' (14077) Volfango        00 06 26.7 +01 44 01  18.5   2.0E   7.5S    25-     7-   17o  None needed at this time.', u' (91070) 1998 FO71       00 05 54.7 +01 43 49  17.9   6.0W   7.7S    23-    22-   12o  None needed at this time.']\n",
      "back from parsing\n",
      "parsed batch 0\n",
      "    tmpid                 designation      ra-hms      dec-dms        v  \\\n",
      "0  000470   (14077) Volfango        0  0 06 26.7   +01 44 01    18.5      \n",
      "1  000470   (91070) 1998 FO71       0  0 05 54.7   +01 43 49    17.9      \n",
      "2  000470   (14077) Volfango        0  0 06 26.7   +01 44 01    18.5      \n",
      "3  000470   (91070) 1998 FO71       0  0 05 54.7   +01 43 49    17.9      \n",
      "4  000470   (14077) Volfango        0  0 06 26.7   +01 44 01    18.5      \n",
      "5  000470   (91070) 1998 FO71       0  0 05 54.7   +01 43 49    17.9      \n",
      "6  000470   (14077) Volfango        0  0 06 26.7   +01 44 01    18.5      \n",
      "7  000470   (91070) 1998 FO71       0  0 05 54.7   +01 43 49    17.9      \n",
      "8  000470   (14077) Volfango        0  0 06 26.7   +01 44 01    18.5      \n",
      "9  000470   (91070) 1998 FO71       0  0 05 54.7   +01 43 49    17.9      \n",
      "\n",
      "  offset_ra offset_dec motion_ra motion_dec   orbit                    comment  \n",
      "0   2.0E      7.5S       25-           7-     17o    None needed at this time.  \n",
      "1   6.0W      7.7S       23-          22-     12o    None needed at this time.  \n",
      "2   2.0E      7.5S       25-           7-     17o    None needed at this time.  \n",
      "3   6.0W      7.7S       23-          22-     12o    None needed at this time.  \n",
      "4   2.0E      7.5S       25-           7-     17o    None needed at this time.  \n",
      "5   6.0W      7.7S       23-          22-     12o    None needed at this time.  \n",
      "6   2.0E      7.5S       25-           7-     17o    None needed at this time.  \n",
      "7   6.0W      7.7S       23-          22-     12o    None needed at this time.  \n",
      "8   2.0E      7.5S       25-           7-     17o    None needed at this time.  \n",
      "9   6.0W      7.7S       23-          22-     12o    None needed at this time.  \n",
      "responses is 0 rows long now.\n",
      "got batch 1\n",
      "going to parse now\n",
      "[u'(373468) 2000 SS21       00 00 58.5 +01 51 04  18.6   2.6W   8.7S    51-    20+    5o  None needed at this time.', u'(372264) 2008 UE254      00 00 32.3 +01 57 25  20.0   9.1W   2.4S    28-    13-    7o  None needed at this time.']\n",
      "[u' (79673) 1998 SG44       00 00 01.5 +01 55 43  19.1   1.1W   1.7N    26-     2-   11o  None needed at this time.', u' (48458) Merian          23 59 55.7 +01 59 46  17.8   2.5W   5.8N    28-     1-   14o  None needed at this time.', u'  (9578) Klyazma         00 00 16.5 +01 47 24  18.3   2.7E   6.6S    28-    13-   20o  None needed at this time.']\n",
      "[u' (79673) 1998 SG44       23 59 58.8 +01 55 36  19.1   1.7W   1.7N    26-     2-   11o  None needed at this time.', u' (48458) Merian          23 59 53.2 +01 59 43  17.8   3.1W   5.8N    28-     1-   14o  None needed at this time.', u'  (9578) Klyazma         00 00 14.0 +01 47 06  18.3   2.1E   6.8S    28-    13-   20o  None needed at this time.']\n"
     ]
    },
    {
     "ename": "IndexError",
     "evalue": "list index out of range",
     "output_type": "error",
     "traceback": [
      "\u001b[0;31m---------------------------------------------------------------------------\u001b[0m",
      "\u001b[0;31mIndexError\u001b[0m                                Traceback (most recent call last)",
      "\u001b[0;32m<ipython-input-805-a1e5c6fd02bc>\u001b[0m in \u001b[0;36m<module>\u001b[0;34m()\u001b[0m\n\u001b[1;32m     14\u001b[0m     \u001b[0;32mprint\u001b[0m \u001b[0;34m\"going to parse now\"\u001b[0m\u001b[0;34m\u001b[0m\u001b[0m\n\u001b[1;32m     15\u001b[0m     \u001b[0;31m#responses = responses.append(parseResponses(resoup, responseframe), ignore_index=True)\u001b[0m\u001b[0;34m\u001b[0m\u001b[0;34m\u001b[0m\u001b[0m\n\u001b[0;32m---> 16\u001b[0;31m     \u001b[0mparsed\u001b[0m \u001b[0;34m=\u001b[0m \u001b[0mparseResponses\u001b[0m\u001b[0;34m(\u001b[0m\u001b[0mresoup\u001b[0m\u001b[0;34m,\u001b[0m \u001b[0mresponseframe\u001b[0m\u001b[0;34m)\u001b[0m\u001b[0;34m\u001b[0m\u001b[0m\n\u001b[0m\u001b[1;32m     17\u001b[0m     \u001b[0;32mprint\u001b[0m \u001b[0;34m\"back from parsing\"\u001b[0m\u001b[0;34m\u001b[0m\u001b[0m\n\u001b[1;32m     18\u001b[0m     \u001b[0;32mprint\u001b[0m \u001b[0;34m\"parsed batch \"\u001b[0m \u001b[0;34m+\u001b[0m \u001b[0mstr\u001b[0m\u001b[0;34m(\u001b[0m\u001b[0mi\u001b[0m\u001b[0;34m)\u001b[0m\u001b[0;34m\u001b[0m\u001b[0m\n",
      "\u001b[0;32m<ipython-input-767-c29d22ac92fc>\u001b[0m in \u001b[0;36mparseResponses\u001b[0;34m(resoup, responses)\u001b[0m\n\u001b[1;32m      4\u001b[0m         \u001b[0;32mif\u001b[0m \u001b[0mresps\u001b[0m\u001b[0;34m[\u001b[0m\u001b[0mindex\u001b[0m\u001b[0;34m]\u001b[0m\u001b[0;34m.\u001b[0m\u001b[0mtext\u001b[0m\u001b[0;34m[\u001b[0m\u001b[0;36m0\u001b[0m\u001b[0;34m:\u001b[0m\u001b[0;36m6\u001b[0m\u001b[0;34m]\u001b[0m \u001b[0;34m==\u001b[0m \u001b[0;34m\"Object\"\u001b[0m\u001b[0;34m:\u001b[0m\u001b[0;34m\u001b[0m\u001b[0m\n\u001b[1;32m      5\u001b[0m             \u001b[0;32mcontinue\u001b[0m\u001b[0;34m\u001b[0m\u001b[0m\n\u001b[0;32m----> 6\u001b[0;31m         \u001b[0;32mif\u001b[0m \u001b[0mresps\u001b[0m\u001b[0;34m[\u001b[0m\u001b[0mindex\u001b[0m\u001b[0;34m+\u001b[0m\u001b[0;36m1\u001b[0m\u001b[0;34m]\u001b[0m\u001b[0;34m.\u001b[0m\u001b[0mtext\u001b[0m\u001b[0;34m[\u001b[0m\u001b[0;36m0\u001b[0m\u001b[0;34m:\u001b[0m\u001b[0;36m6\u001b[0m\u001b[0;34m]\u001b[0m \u001b[0;34m==\u001b[0m \u001b[0;34m\"Object\"\u001b[0m\u001b[0;34m:\u001b[0m\u001b[0;34m\u001b[0m\u001b[0m\n\u001b[0m\u001b[1;32m      7\u001b[0m             \u001b[0mtmpid\u001b[0m \u001b[0;34m=\u001b[0m \u001b[0mresps\u001b[0m\u001b[0;34m[\u001b[0m\u001b[0mindex\u001b[0m\u001b[0;34m]\u001b[0m\u001b[0;34m.\u001b[0m\u001b[0mtext\u001b[0m\u001b[0;34m[\u001b[0m\u001b[0;36m0\u001b[0m\u001b[0;34m:\u001b[0m\u001b[0;36m6\u001b[0m\u001b[0;34m]\u001b[0m\u001b[0;34m\u001b[0m\u001b[0m\n\u001b[1;32m      8\u001b[0m             \u001b[0mmatches\u001b[0m \u001b[0;34m=\u001b[0m \u001b[0mresps\u001b[0m\u001b[0;34m[\u001b[0m\u001b[0mindex\u001b[0m\u001b[0;34m+\u001b[0m\u001b[0;36m1\u001b[0m\u001b[0;34m]\u001b[0m\u001b[0;34m.\u001b[0m\u001b[0mtext\u001b[0m\u001b[0;34m[\u001b[0m\u001b[0;36m204\u001b[0m\u001b[0;34m:\u001b[0m\u001b[0;34m]\u001b[0m\u001b[0;34m\u001b[0m\u001b[0m\n",
      "\u001b[0;31mIndexError\u001b[0m: list index out of range"
     ]
    }
   ],
   "source": [
    "i = 0\n",
    "responses = responseframe\n",
    "for name, group in lobss:\n",
    "    observations = ''\n",
    "    tempgp = lobss.get_group(name)\n",
    "    for ind, row in tempgp.iterrows():\n",
    "        q = MPCRecord(MPprovisional=row['tmpid'], obsdate=ephem.date(row['date_obs']), \\\n",
    "                          ra_obs_J2000=row['ra'], dec_obs_J2000=row['dec'])\n",
    "        observations = observations + q.record + '%0A'\n",
    "\n",
    "    observations = observations[:-3]\n",
    "\n",
    "    resoup = retrieveBatch(observations)\n",
    "    print \"got batch \" + str(i)\n",
    "    print \"going to parse now\"\n",
    "    #responses = responses.append(parseResponses(resoup, responseframe), ignore_index=True)\n",
    "    parsed = parseResponses(resoup, responseframe)\n",
    "    print \"back from parsing\"\n",
    "    print \"parsed batch \" + str(i)\n",
    "    print parsed\n",
    "    print \"responses is \" + str(len(responses)) + \" rows long now.\"\n",
    "    i = i+1"
   ]
  },
  {
   "cell_type": "code",
   "execution_count": 808,
   "metadata": {},
   "outputs": [
    {
     "data": {
      "text/plain": [
       "<enumerate at 0x10b63a730>"
      ]
     },
     "execution_count": 808,
     "output_type": "execute_result",
     "metadata": {}
    }
   ],
   "source": [
    "enumerate(resps, start = 0)"
   ]
  },
  {
   "cell_type": "code",
   "execution_count": 761,
   "metadata": {},
   "outputs": [],
   "source": [
    "def retrieveBatch(observations):\n",
    "    url = \"http://www.minorplanetcenter.net/cgi-bin/mpcheck.cgi\"\n",
    "\n",
    "    today=datetime.utcnow()\n",
    "    year=str(today.year)\n",
    "    month=str(today.strftime(\"%m\"))\n",
    "    day=str(round(today.day + (float(today.hour)/24 + float(today.minute)/(24*60)),2))\n",
    "\n",
    "    limit='20.0'\n",
    "    radius='10'\n",
    "\n",
    "    payload = \"TextArea=\" + observations + \"&day=\" + day + \"&decl=&limit=\" + limit + \"&month=\" + month +  \\\n",
    "              \"&mot=h&needed=f&oc=W84&pdes=u&ps=n&ra=&radius=\" + radius + \"&sort=d&tmot=s&type=p&which=obs&year=\" + year\n",
    "    headers = {\n",
    "        'accept': \"text/html,application/xhtml+xml,application/xml;q=0.9,image/webp,*/*;q=0.8\",\n",
    "        'origin': \"http//www.minorplanetcenter.net\",\n",
    "        'upgrade-insecure-requests': \"1\",\n",
    "        'user-agent': \"Mozilla/5.0 (Macintosh; Intel Mac OS X 10_11_3) AppleWebKit/537.36 (KHTML, like Gecko) Chrome/48.0.2564.116 Safari/537.36\",\n",
    "        'content-type': \"application/x-www-form-urlencoded\",\n",
    "        'referer': \"http//www.minorplanetcenter.net/cgi-bin/checkmp.cgi\",\n",
    "        'accept-encoding': \"gzip, deflate\",\n",
    "        'accept-language': \"en-US,en;q=0.8\",\n",
    "        'cookie': \"WT_FPC=id=68.56.146.120-2763983344.30502161lv=1456166666520ss=1456166666520; __utmt=1; __utma=108877598.394446093.1456105075.1456105075.1456166667.2; __utmb=108877598.1.10.1456166667; __utmc=108877598; __utmz=108877598.1456105075.1.1.utmcsr=google|utmccn=(organic)|utmcmd=organic|utmctr=(not%20provided)\"\n",
    "        }\n",
    "\n",
    "    response = requests.request(\"POST\", url, data=payload, headers=headers)\n",
    "\n",
    "    resoup = bs(response.text)\n",
    "    return resoup"
   ]
  },
  {
   "cell_type": "code",
   "execution_count": 767,
   "metadata": {},
   "outputs": [],
   "source": [
    "def parseResponses(resoup, frame):\n",
    "    responseframe = frame\n",
    "    resps = resoup.findAll('pre')\n",
    "    for index, item in enumerate(resps, start = 0):\n",
    "        if resps[index].text[0:6] == \"Object\":\n",
    "            continue\n",
    "        if resps[index+1].text[0:6] == \"Object\":\n",
    "            tmpid = resps[index].text[0:6]\n",
    "            matches = resps[index+1].text[204:]\n",
    "            matches = matches.splitlines()\n",
    "            print matches\n",
    "            matchframe = buildmatch(matches)\n",
    "            responseframe = responseframe.append(matchframe,ignore_index = True)\n",
    "            continue\n",
    "        #so if it all falls out, write a disappointed row    \n",
    "        else:\n",
    "            tmpid = resps[index].text[0:6]\n",
    "            matches = [\"-\" * 125]\n",
    "            matchframe = buildmatch(matches)\n",
    "            responseframe = responseframe.append(matchframe,ignore_index = True)\n",
    "\n",
    "    return responseframe"
   ]
  },
  {
   "cell_type": "code",
   "execution_count": 804,
   "metadata": {},
   "outputs": [
    {
     "data": {
      "text/plain": [
       "[<pre>\n",
       "      000466   C2013 09 30.14987300 07 11.53  01 57 39.0               r      W84\n",
       " </pre>, <pre>\n",
       "  Object designation         R.A.      Decl.     V       Offsets     Motion/hr   Orbit  <a href=\"http://www.cfa.harvard.edu/iau/info/FurtherObs.html\">Further observations?</a>\n",
       "                            h  m  s     &#176;  '  \"        R.A.   Decl.  R.A.  Decl.        Comment (Elong/Decl/V at date 1)\n",
       " \n",
       " (380057) 2013 RF81       00 06 58.4 +02 00 32  19.8   3.3W   2.9N    30-    13-    7o  None needed at this time.\n",
       " (104635) 2000 GD117      00 06 58.2 +02 04 12  19.1   3.3W   6.6N    28-    14-   13o  None needed at this time.\n",
       " (164150) 2003 YF119      00 06 50.0 +02 03 45  19.7   5.4W   6.1N    27-     9-   13o  None needed at this time.\n",
       "  </pre>, <pre>\n",
       "      000467   C2013 09 30.15134300 07 11.52  01 57 38.8               r      W84\n",
       " </pre>, <pre>\n",
       "  Object designation         R.A.      Decl.     V       Offsets     Motion/hr   Orbit  <a href=\"http://www.cfa.harvard.edu/iau/info/FurtherObs.html\">Further observations?</a>\n",
       "                            h  m  s     &#176;  '  \"        R.A.   Decl.  R.A.  Decl.        Comment (Elong/Decl/V at date 1)\n",
       " \n",
       " (380057) 2013 RF81       00 06 58.3 +02 00 32  19.8   3.3W   2.9N    30-    13-    7o  None needed at this time.\n",
       " (104635) 2000 GD117      00 06 58.2 +02 04 12  19.1   3.3W   6.5N    28-    14-   13o  None needed at this time.\n",
       " (164150) 2003 YF119      00 06 49.9 +02 03 45  19.7   5.4W   6.1N    27-     9-   13o  None needed at this time.\n",
       "  </pre>, <pre>\n",
       "      000468   C2013 10 11.12047500 06 26.54  01 52 28.4               r      W84\n",
       "  </pre>, <pre>\n",
       "      000469   C2013 10 13.09004600 06 18.73  01 51 34.1               r      W84\n",
       " </pre>, <pre>\n",
       "  Object designation         R.A.      Decl.     V       Offsets     Motion/hr   Orbit  <a href=\"http://www.cfa.harvard.edu/iau/info/FurtherObs.html\">Further observations?</a>\n",
       "                            h  m  s     &#176;  '  \"        R.A.   Decl.  R.A.  Decl.        Comment (Elong/Decl/V at date 1)\n",
       " \n",
       "  (14077) Volfango        00 06 27.8 +01 44 06  18.5   2.3E   7.5S    25-     7-   17o  None needed at this time.\n",
       "  (91070) 1998 FO71       00 05 55.7 +01 44 03  17.9   5.7W   7.5S    23-    22-   12o  None needed at this time.\n",
       "  </pre>, <pre>\n",
       "      000470   C2013 10 13.11571800 06 18.62  01 51 33.3               r      W84\n",
       " </pre>, <pre>\n",
       "  Object designation         R.A.      Decl.     V       Offsets     Motion/hr   Orbit  <a href=\"http://www.cfa.harvard.edu/iau/info/FurtherObs.html\">Further observations?</a>\n",
       "                            h  m  s     &#176;  '  \"        R.A.   Decl.  R.A.  Decl.        Comment (Elong/Decl/V at date 1)\n",
       " \n",
       "  (14077) Volfango        00 06 26.7 +01 44 01  18.5   2.0E   7.5S    25-     7-   17o  None needed at this time.\n",
       "  (91070) 1998 FO71       00 05 54.7 +01 43 49  17.9   6.0W   7.7S    23-    22-   12o  None needed at this time.\n",
       "  </pre>]"
      ]
     },
     "execution_count": 804,
     "output_type": "execute_result",
     "metadata": {}
    }
   ],
   "source": [
    "resps"
   ]
  },
  {
   "cell_type": "code",
   "execution_count": 742,
   "metadata": {},
   "outputs": [],
   "source": [
    "def buildmatch(matchtext):\n",
    "    matchframe = pd.DataFrame({'matchtext': matches})\n",
    "\n",
    "    matchframe['tmpid'] = tmpid\n",
    "    matchframe['designation'] = matchframe.matchtext.str[0:26]\n",
    "    matchframe['ra-hms'] = matchframe.matchtext.str[26:36]\n",
    "    matchframe['dec-dms'] = matchframe.matchtext.str[36:47]\n",
    "    matchframe['v'] = matchframe.matchtext.str[47:54]\n",
    "    matchframe['offset_ra'] = matchframe.matchtext.str[54:61]\n",
    "    matchframe['offset_dec'] = matchframe.matchtext.str[61:69]\n",
    "    matchframe['motion_ra'] = matchframe.matchtext.str[69:76]\n",
    "    matchframe['motion_dec'] = matchframe.matchtext.str[76:81]\n",
    "    matchframe['orbit'] = matchframe.matchtext.str[81:87]\n",
    "    matchframe['comment'] = matchframe.matchtext.str[87:]\n",
    "\n",
    "    del matchframe['matchtext']\n",
    "    return matchframe"
   ]
  },
  {
   "cell_type": "code",
   "execution_count": 786,
   "metadata": {},
   "outputs": [
    {
     "ename": "AttributeError",
     "evalue": "'DataFrame' object has no attribute 'matchtext'",
     "output_type": "error",
     "traceback": [
      "\u001b[0;31m---------------------------------------------------------------------------\u001b[0m",
      "\u001b[0;31mAttributeError\u001b[0m                            Traceback (most recent call last)",
      "\u001b[0;32m<ipython-input-786-671a0fbd6555>\u001b[0m in \u001b[0;36m<module>\u001b[0;34m()\u001b[0m\n\u001b[0;32m----> 1\u001b[0;31m \u001b[0mmatchframe\u001b[0m\u001b[0;34m.\u001b[0m\u001b[0mmatchtext\u001b[0m\u001b[0;34m\u001b[0m\u001b[0m\n\u001b[0m",
      "\u001b[0;32m/Users/kath/anaconda/lib/python2.7/site-packages/pandas/core/generic.pyc\u001b[0m in \u001b[0;36m__getattr__\u001b[0;34m(self, name)\u001b[0m\n\u001b[1;32m   2358\u001b[0m                 \u001b[0;32mreturn\u001b[0m \u001b[0mself\u001b[0m\u001b[0;34m[\u001b[0m\u001b[0mname\u001b[0m\u001b[0;34m]\u001b[0m\u001b[0;34m\u001b[0m\u001b[0m\n\u001b[1;32m   2359\u001b[0m             raise AttributeError(\"'%s' object has no attribute '%s'\" %\n\u001b[0;32m-> 2360\u001b[0;31m                                  (type(self).__name__, name))\n\u001b[0m\u001b[1;32m   2361\u001b[0m \u001b[0;34m\u001b[0m\u001b[0m\n\u001b[1;32m   2362\u001b[0m     \u001b[0;32mdef\u001b[0m \u001b[0m__setattr__\u001b[0m\u001b[0;34m(\u001b[0m\u001b[0mself\u001b[0m\u001b[0;34m,\u001b[0m \u001b[0mname\u001b[0m\u001b[0;34m,\u001b[0m \u001b[0mvalue\u001b[0m\u001b[0;34m)\u001b[0m\u001b[0;34m:\u001b[0m\u001b[0;34m\u001b[0m\u001b[0m\n",
      "\u001b[0;31mAttributeError\u001b[0m: 'DataFrame' object has no attribute 'matchtext'"
     ]
    }
   ],
   "source": [
    ""
   ]
  },
  {
   "cell_type": "code",
   "execution_count": null,
   "metadata": {},
   "outputs": [],
   "source": [
    ""
   ]
  }
 ],
 "metadata": {
  "kernelspec": {
   "display_name": "Python 2",
   "language": "python",
   "name": "python2"
  },
  "language_info": {
   "codemirror_mode": {
    "name": "ipython",
    "version": 2.0
   },
   "file_extension": ".py",
   "mimetype": "text/x-python",
   "name": "python",
   "nbconvert_exporter": "python",
   "pygments_lexer": "ipython2",
   "version": "2.7.11"
  }
 },
 "nbformat": 4,
 "nbformat_minor": 0
}